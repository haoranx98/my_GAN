{
 "cells": [
  {
   "cell_type": "code",
   "execution_count": 10,
   "id": "0f04b896",
   "metadata": {},
   "outputs": [],
   "source": [
    "import os\n",
    "from skimage import measure\n",
    "from matplotlib.pyplot import imread\n",
    "import numpy as np"
   ]
  },
  {
   "cell_type": "code",
   "execution_count": 25,
   "id": "08ddd8c8",
   "metadata": {},
   "outputs": [],
   "source": [
    "ceba_path = './celeba/Img/img_align_celeba/'\n",
    "fake_path = './haoran_1/'\n",
    "img1 = imread(ceba_path + '000001.jpg')\n",
    "img2 = imread(fake_path + '0.png')"
   ]
  },
  {
   "cell_type": "code",
   "execution_count": 26,
   "id": "237d5973",
   "metadata": {},
   "outputs": [
    {
     "name": "stdout",
     "output_type": "stream",
     "text": [
      "(77, 77, 3)\n",
      "(218, 178, 3)\n"
     ]
    }
   ],
   "source": [
    "print(img2.shape)\n",
    "print(img1.shape)"
   ]
  },
  {
   "cell_type": "code",
   "execution_count": 13,
   "id": "15059aba",
   "metadata": {},
   "outputs": [],
   "source": [
    "from skimage.metrics import structural_similarity as compare_ssim\n",
    "# ssim = compare_ssim(img1, img2, channel_axis=-1)"
   ]
  },
  {
   "cell_type": "code",
   "execution_count": 14,
   "id": "e79475b3",
   "metadata": {},
   "outputs": [],
   "source": [
    "# print(ssim)"
   ]
  },
  {
   "cell_type": "code",
   "execution_count": 27,
   "id": "e8ef0481",
   "metadata": {},
   "outputs": [],
   "source": [
    "def cal_ssim(img1_path, img2_path):\n",
    "    img1 = imread(img1_path)\n",
    "    img2 = imread(img2_path)\n",
    "    img1 = np.resize(img1, (img2.shape[0], img2.shape[1], img2.shape[2]))\n",
    "    ssim = compare_ssim(img1, img2, channel_axis=-1)\n",
    "    return ssim"
   ]
  },
  {
   "cell_type": "code",
   "execution_count": 28,
   "id": "85e6b432",
   "metadata": {},
   "outputs": [
    {
     "data": {
      "text/plain": [
       "3.583320402154131e-05"
      ]
     },
     "execution_count": 28,
     "metadata": {},
     "output_type": "execute_result"
    }
   ],
   "source": [
    "cal_ssim(ceba_path + '000001.jpg',fake_path + '0.png' )"
   ]
  },
  {
   "cell_type": "code",
   "execution_count": 29,
   "id": "56bdb332",
   "metadata": {},
   "outputs": [
    {
     "name": "stdout",
     "output_type": "stream",
     "text": [
      "./haoran_1/63.png\n",
      "./haoran_1/34.png\n",
      "./haoran_1/31.png\n",
      "./haoran_1/35.png\n",
      "./haoran_1/49.png\n",
      "./haoran_1/40.png\n",
      "./haoran_1/30.png\n",
      "./haoran_1/58.png\n",
      "./haoran_1/21.png\n",
      "./haoran_1/5.png\n",
      "./haoran_1/12.png\n",
      "./haoran_1/0.png\n",
      "./haoran_1/44.png\n",
      "./haoran_1/47.png\n",
      "./haoran_1/8.png\n",
      "./haoran_1/51.png\n",
      "./haoran_1/48.png\n",
      "./haoran_1/6.png\n",
      "./haoran_1/9.png\n",
      "./haoran_1/43.png\n",
      "./haoran_1/10.png\n",
      "./haoran_1/17.png\n",
      "./haoran_1/23.png\n",
      "./haoran_1/59.png\n",
      "./haoran_1/56.png\n",
      "./haoran_1/53.png\n",
      "./haoran_1/16.png\n",
      "./haoran_1/4.png\n",
      "./haoran_1/15.png\n",
      "./haoran_1/14.png\n",
      "./haoran_1/32.png\n",
      "./haoran_1/28.png\n",
      "./haoran_1/25.png\n",
      "./haoran_1/39.png\n",
      "./haoran_1/2.png\n",
      "./haoran_1/3.png\n",
      "./haoran_1/62.png\n",
      "./haoran_1/46.png\n",
      "./haoran_1/7.png\n",
      "./haoran_1/1.png\n",
      "./haoran_1/24.png\n",
      "./haoran_1/41.png\n",
      "./haoran_1/37.png\n",
      "./haoran_1/26.png\n",
      "./haoran_1/50.png\n",
      "./haoran_1/11.png\n",
      "./haoran_1/52.png\n",
      "./haoran_1/38.png\n",
      "./haoran_1/42.png\n",
      "./haoran_1/45.png\n",
      "./haoran_1/22.png\n",
      "./haoran_1/19.png\n",
      "./haoran_1/60.png\n",
      "./haoran_1/54.png\n",
      "./haoran_1/13.png\n",
      "./haoran_1/27.png\n",
      "./haoran_1/20.png\n",
      "./haoran_1/55.png\n",
      "./haoran_1/36.png\n",
      "./haoran_1/33.png\n",
      "./haoran_1/61.png\n",
      "./haoran_1/57.png\n",
      "./haoran_1/29.png\n",
      "./haoran_1/18.png\n"
     ]
    }
   ],
   "source": [
    "import os\n",
    "for root, dirs, files in os.walk(\"./haoran_1\"):\n",
    "    for name in files:\n",
    "#         print(root)\n",
    "        print(os.path.join(root, name))\n",
    "#     for name in dirs:\n",
    "#         print(os.path.join(root, name))"
   ]
  },
  {
   "cell_type": "code",
   "execution_count": null,
   "id": "9ddda61d",
   "metadata": {
    "scrolled": false
   },
   "outputs": [
    {
     "name": "stdout",
     "output_type": "stream",
     "text": [
      "./haoran_1/63.png====./celeba/Img/img_align_celeba/107826.jpg\n",
      "./haoran_1/34.png====./celeba/Img/img_align_celeba/071018.jpg\n",
      "./haoran_1/31.png====./celeba/Img/img_align_celeba/077678.jpg\n",
      "./haoran_1/35.png====./celeba/Img/img_align_celeba/142113.jpg\n",
      "./haoran_1/49.png====./celeba/Img/img_align_celeba/071018.jpg\n",
      "./haoran_1/40.png====./celeba/Img/img_align_celeba/071018.jpg\n",
      "./haoran_1/30.png====./celeba/Img/img_align_celeba/077678.jpg\n",
      "./haoran_1/58.png====./celeba/Img/img_align_celeba/176189.jpg\n",
      "./haoran_1/21.png====./celeba/Img/img_align_celeba/071018.jpg\n",
      "./haoran_1/5.png====./celeba/Img/img_align_celeba/077678.jpg\n",
      "./haoran_1/12.png====./celeba/Img/img_align_celeba/071018.jpg\n",
      "./haoran_1/0.png====./celeba/Img/img_align_celeba/107826.jpg\n",
      "./haoran_1/44.png====./celeba/Img/img_align_celeba/201087.jpg\n",
      "./haoran_1/47.png====./celeba/Img/img_align_celeba/176788.jpg\n",
      "./haoran_1/8.png====./celeba/Img/img_align_celeba/071018.jpg\n",
      "./haoran_1/51.png====./celeba/Img/img_align_celeba/071018.jpg\n",
      "./haoran_1/48.png====./celeba/Img/img_align_celeba/077678.jpg\n",
      "./haoran_1/6.png====./celeba/Img/img_align_celeba/071018.jpg\n",
      "./haoran_1/9.png====./celeba/Img/img_align_celeba/077678.jpg\n",
      "./haoran_1/43.png====./celeba/Img/img_align_celeba/071018.jpg\n",
      "./haoran_1/10.png====./celeba/Img/img_align_celeba/176788.jpg\n",
      "./haoran_1/17.png====./celeba/Img/img_align_celeba/071018.jpg\n",
      "./haoran_1/23.png====./celeba/Img/img_align_celeba/071018.jpg\n",
      "./haoran_1/59.png====./celeba/Img/img_align_celeba/071018.jpg\n",
      "./haoran_1/56.png====./celeba/Img/img_align_celeba/176788.jpg\n",
      "./haoran_1/53.png====./celeba/Img/img_align_celeba/071018.jpg\n",
      "./haoran_1/16.png====./celeba/Img/img_align_celeba/071018.jpg\n",
      "./haoran_1/4.png====./celeba/Img/img_align_celeba/071018.jpg\n",
      "./haoran_1/15.png====./celeba/Img/img_align_celeba/201087.jpg\n"
     ]
    }
   ],
   "source": [
    "import os\n",
    "# for fake_root, fake_dirs, fake_files in os.walk(fake_path):\n",
    "#     for fake_name in fake_files:\n",
    "#         max_ssim = -1\n",
    "#         max_fake_file = ''\n",
    "#         max_true_file = ''\n",
    "#         for true_root, true_dirs, true_files in os.walk(ceba_path):\n",
    "#             for true_name in true_files:\n",
    "#                 ssim = cal_ssim(os.path.join(fake_root, fake_name), os.path.join(true_root, true_name))\n",
    "#                 if ssim > max_ssim:\n",
    "#                     max_true_file = os.path.join(true_root, true_name)\n",
    "#                     max_fake_file = os.path.join(fake_root, fake_name)\n",
    "#         print(max_fake_file + '====' + max_true_file)\n",
    "#         break\n",
    "def read_all_file_name(file_path):\n",
    "    file_name = os.listdir(file_path)\n",
    "    return file_name\n",
    "\n",
    "fake_name = read_all_file_name(fake_path)\n",
    "true_name = read_all_file_name(ceba_path)\n",
    "# print(true_name)\n",
    "\n",
    "for fake_file_name in fake_name:\n",
    "    max_ssim = -1\n",
    "    max_fake_file = fake_path + fake_file_name\n",
    "    max_true_file = ''\n",
    "    for true_file_name in true_name:\n",
    "#         print(true_file_name)\n",
    "#         print(max_ssim)\n",
    "        ssim = cal_ssim(fake_path + fake_file_name, ceba_path + true_file_name)\n",
    "#         print(ssim)\n",
    "        if ssim > max_ssim:\n",
    "            max_ssim = ssim\n",
    "            max_true_file = ceba_path + true_file_name\n",
    "#         print('max_true_file is ' + max_true_file)\n",
    "    print(max_fake_file + '====' + max_true_file)\n",
    "    max_true_file = ''\n",
    "\n"
   ]
  },
  {
   "cell_type": "code",
   "execution_count": null,
   "id": "79169457",
   "metadata": {},
   "outputs": [],
   "source": [
    "true_name[0]"
   ]
  },
  {
   "cell_type": "code",
   "execution_count": null,
   "id": "b5c11760",
   "metadata": {},
   "outputs": [],
   "source": [
    "def cmpHash(hash1, hash2,shape=(10,10)):\n",
    "    n = 0\n",
    "    # hash长度不同则返回-1代表传参出错\n",
    "    if len(hash1)!=len(hash2):\n",
    "        return -1\n",
    "    # 遍历判断\n",
    "    for i in range(len(hash1)):\n",
    "        # 相等则n计数+1，n最终为相似度\n",
    "        if hash1[i] == hash2[i]:\n",
    "            n = n + 1\n",
    "    return n/(shape[0]*shape[1])"
   ]
  },
  {
   "cell_type": "code",
   "execution_count": null,
   "id": "397b3ae9",
   "metadata": {},
   "outputs": [],
   "source": [
    "def aHash(img,shape=(10,10)):\n",
    "    # 缩放为10*10\n",
    "    img = cv2.resize(img, shape)\n",
    "    # 转换为灰度图\n",
    "    gray = cv2.cvtColor(img, cv2.COLOR_BGR2GRAY)\n",
    "    # s为像素和初值为0，hash_str为hash值初值为''\n",
    "    s = 0\n",
    "    hash_str = ''\n",
    "    # 遍历累加求像素和\n",
    "    for i in range(shape[0]):\n",
    "        for j in range(shape[1]):\n",
    "            s = s + gray[i, j]\n",
    "    # 求平均灰度\n",
    "    avg = s / 100\n",
    "    # 灰度大于平均值为1相反为0生成图片的hash值\n",
    "    for i in range(shape[0]):\n",
    "        for j in range(shape[1]):\n",
    "            if gray[i, j] > avg:\n",
    "                hash_str = hash_str + '1'\n",
    "            else:\n",
    "                hash_str = hash_str + '0'\n",
    "    return hash_str"
   ]
  },
  {
   "cell_type": "code",
   "execution_count": null,
   "id": "93c24aab",
   "metadata": {},
   "outputs": [],
   "source": [
    "def cal_hash(img1_path, img2_path):\n",
    "    img1 = cv2.imread('328/0003.jpg')  \n",
    "    img2 = cv2.imread('328/0004.jpg')\n",
    "\n",
    "    hash1 = aHash(img1)\n",
    "    hash2 = aHash(img2)\n",
    "    \n",
    "    n = cmpHash(hash1, hash2)\n",
    "    \n",
    "    return n"
   ]
  },
  {
   "cell_type": "code",
   "execution_count": null,
   "id": "05a6bf5a",
   "metadata": {},
   "outputs": [],
   "source": []
  }
 ],
 "metadata": {
  "kernelspec": {
   "display_name": "Python 3 (ipykernel)",
   "language": "python",
   "name": "python3"
  },
  "language_info": {
   "codemirror_mode": {
    "name": "ipython",
    "version": 3
   },
   "file_extension": ".py",
   "mimetype": "text/x-python",
   "name": "python",
   "nbconvert_exporter": "python",
   "pygments_lexer": "ipython3",
   "version": "3.8.13"
  }
 },
 "nbformat": 4,
 "nbformat_minor": 5
}
